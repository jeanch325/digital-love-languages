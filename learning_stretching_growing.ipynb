{
 "cells": [
  {
   "cell_type": "code",
   "execution_count": 103,
   "metadata": {},
   "outputs": [],
   "source": [
    "import re\n",
    "import random\n",
    "txt = \"Maybe it started soon after his arrival during one of those grinding lunches when he sat next to me and it finally dawned on me that, despite a light tan acquired during his brief stay in Sicily earlier that summer, the color on the palms of his hands was the same as the pale, soft skin of his soles, of his throat, of the bot-tom of his forearms, which hadn't really been exposed to much sun. Almost a light pink, as glistening and smooth as the underside of a lizard's belly. Private, chaste, unfledged, like a blush on an athlete's face or an instance of dawn on a stormy night. It told me things about him I never knew to ask.\"\n",
    "txt_list = txt.split()\n"
   ]
  },
  {
   "cell_type": "code",
   "execution_count": 104,
   "metadata": {},
   "outputs": [
    {
     "name": "stdout",
     "output_type": "stream",
     "text": [
      "['Maybe', 'it', 'started', 'soon', 'after', 'his', 'arrival', 'during', 'one', 'of', 'those', 'grinding', 'lunches', 'when', 'he', 'sat', 'next', 'to', 'me', 'and', 'it', 'finally', 'dawned', 'on', 'me', 'that,', 'despite', 'a', 'light', 'tan', 'acquired', 'during', 'his', 'brief', 'stay', 'in', 'Sicily', 'earlier', 'that', 'summer,', 'the', 'color', 'on', 'the', 'palms', 'of', 'his', 'hands', 'was', 'the', 'same', 'as', 'the', 'pale,', 'soft', 'skin', 'of', 'his', 'soles,', 'of', 'his', 'throat,', 'of', 'the', 'bot-tom', 'of', 'his', 'forearms,', 'which', \"hadn't\", 'really', 'been', 'exposed', 'to', 'much', 'sun.', 'Almost', 'a', 'light', 'pink,', 'as', 'glistening', 'and', 'smooth', 'as', 'the', 'underside', 'of', 'a', \"lizard's\", 'belly.', 'Private,', 'chaste,', 'unfledged,', 'like', 'a', 'blush', 'on', 'an', \"athlete's\", 'face', 'or', 'an', 'instance', 'of', 'dawn', 'on', 'a', 'stormy', 'night.', 'It', 'told', 'me', 'things', 'about', 'him', 'I', 'never', 'knew', 'to', 'ask.']\n",
      "\n",
      "{'like', 'that', 'it', 'Almost', 'chaste,', 'Private,', 'him', 'he', 'bot-tom', 'summer,', 'things', 'on', 'sat', 'told', 'finally', 'as', 'those', 'soft', 'color', 'one', 'after', 'was', 'It', 'same', 'started', 'throat,', 'next', 'Maybe', 'lunches', 'stormy', 'palms', 'stay', 'sun.', 'the', 'blush', 'during', 'an', 'that,', 'of', 'belly.', 'dawn', 'soles,', 'in', 'brief', 'which', 'to', \"athlete's\", 'hands', \"lizard's\", 'tan', 'despite', 'forearms,', 'soon', 'about', 'really', 'arrival', 'me', 'pale,', 'grinding', 'face', 'glistening', 'a', 'night.', 'his', 'exposed', 'been', 'I', 'much', 'smooth', 'when', 'light', 'dawned', 'skin', \"hadn't\", 'instance', 'underside', 'acquired', 'unfledged,', 'never', 'pink,', 'or', 'knew', 'ask.', 'and', 'earlier', 'Sicily'}\n"
     ]
    }
   ],
   "source": [
    "print(txt_list)\n",
    "print()\n",
    "txt_set = set(txt_list)\n",
    "print(txt_set)\n",
    "\n"
   ]
  },
  {
   "cell_type": "code",
   "execution_count": 105,
   "metadata": {},
   "outputs": [
    {
     "name": "stdout",
     "output_type": "stream",
     "text": [
      "{'like': 'that', 'it': 'Almost', 'chaste,': 'Private,', 'him': 'he', 'bot-tom': 'summer,', 'things': 'on', 'sat': 'told', 'finally': 'as', 'those': 'soft', 'color': 'one', 'after': 'was', 'It': 'same', 'started': 'throat,', 'next': 'Maybe', 'lunches': 'stormy', 'palms': 'stay', 'sun.': 'the', 'blush': 'during', 'an': 'that,', 'of': 'belly.', 'dawn': 'soles,', 'in': 'brief', 'which': 'to', \"athlete's\": 'hands', \"lizard's\": 'tan', 'despite': 'forearms,', 'soon': 'about', 'really': 'arrival', 'me': 'pale,', 'grinding': 'face', 'glistening': 'a', 'night.': 'his', 'exposed': 'been', 'I': 'much', 'smooth': 'when', 'light': 'dawned', 'skin': \"hadn't\", 'instance': 'underside', 'acquired': 'unfledged,', 'never': 'pink,', 'or': 'knew', 'ask.': 'and'}\n"
     ]
    }
   ],
   "source": [
    "txt_keys = []\n",
    "txt_values = []\n",
    "for i, item in enumerate(txt_set):\n",
    "    if i % 2 == 0:\n",
    "        txt_keys.append(item)\n",
    "    else:\n",
    "        txt_values.append(item)\n",
    "\n",
    "txt_keys.pop()\n",
    "    \n",
    "txt_dict = {}\n",
    "for i in range(len(txt_keys)):\n",
    "    txt_dict[txt_keys[i]] = txt_values[i]\n",
    "print(txt_dict)"
   ]
  },
  {
   "cell_type": "code",
   "execution_count": 108,
   "metadata": {},
   "outputs": [
    {
     "name": "stdout",
     "output_type": "stream",
     "text": [
      "same\n",
      "about\n",
      "I\n",
      "brief\n",
      "told\n",
      "despite\n",
      "exposed\n",
      "his\n",
      "when\n",
      "me\n",
      "of\n",
      "acquired\n",
      "as\n",
      "the\n",
      "grinding\n",
      "of\n",
      "It\n",
      "dawn\n",
      "color\n",
      "blush\n",
      "one\n",
      "skin\n",
      "a\n",
      "an\n",
      "the\n",
      "and\n",
      "or\n",
      "finally\n",
      "and\n",
      "smooth\n",
      "on\n",
      "a\n",
      "it\n",
      "he\n",
      "light\n",
      "in\n",
      "palms\n",
      "tan\n",
      "as\n",
      "the\n",
      "his\n",
      "Maybe\n",
      "dawned\n",
      "lunches\n",
      "to\n",
      "never\n",
      "like\n",
      "his\n",
      "stay\n",
      "of\n",
      "of\n",
      "of\n",
      "of\n",
      "an\n",
      "a\n",
      "to\n",
      "his\n",
      "it\n",
      "on\n",
      "of\n",
      "hands\n",
      "face\n",
      "glistening\n",
      "light\n",
      "arrival\n",
      "his\n",
      "me\n",
      "which\n",
      "earlier\n",
      "much\n",
      "knew\n",
      "stormy\n",
      "me\n",
      "on\n",
      "the\n",
      "been\n",
      "during\n",
      "those\n",
      "as\n",
      "on\n",
      "soft\n",
      "during\n",
      "really\n",
      "Almost\n",
      "the\n",
      "that\n",
      "Sicily\n",
      "a\n",
      "instance\n",
      "next\n",
      "things\n",
      "the\n",
      "sat\n",
      "soon\n",
      "a\n",
      "of\n",
      "underside\n",
      "him\n",
      "started\n",
      "after\n",
      "was\n",
      "to\n",
      "his\n"
     ]
    }
   ],
   "source": [
    "random.shuffle(txt_list)\n",
    "for i in txt_list:\n",
    "    if i.isalpha():\n",
    "        print(i)"
   ]
  },
  {
   "cell_type": "code",
   "execution_count": 45,
   "metadata": {},
   "outputs": [
    {
     "name": "stdout",
     "output_type": "stream",
     "text": [
      "[',', ',', ',', ',', ',', ',', ',', ',', ',', ',']\n"
     ]
    }
   ],
   "source": [
    "x = re.findall(',', txt)\n",
    "print(x)"
   ]
  },
  {
   "cell_type": "code",
   "execution_count": 96,
   "metadata": {},
   "outputs": [
    {
     "name": "stdout",
     "output_type": "stream",
     "text": [
      "Maybe it started soon 🅰️fter his 🅰️👯‍♂️ival during one 🌸of🌸 those grinding lunches when he sat next to ✨👤🌠me🌠👤✨ 🅰️nd it fina👯‍♂️y dawned on ✨👤🌠me🌠👤✨ that➰ despite 🅰️ light tan 🅰️cquired during his 🐝rief stay in Sicily earlier that su👯‍♂️er➰ the color on the palms 🌸of🌸 his hands was the same 🅰️s the pale➰ soft skin 🌸of🌸 his soles➰ 🌸of🌸 his throat➰ 🌸of🌸 the 🐝ot-tom 🌸of🌸 his forearms➰ which hadn't rea👯‍♂️y 🐝een exposed to much sun➰ 🅰️lmost 🅰️ light pink➰ 🅰️s glistening 🅰️nd smooth 🅰️s the underside 🌸of🌸 🅰️ lizard's 🐝e👯‍♂️y➰ Private➰ chaste➰ unfledged➰ like 🅰️ 🐝lush on 🅰️n 🅰️thlete's face or 🅰️n instance 🌸of🌸 dawn on 🅰️ stormy night➰ It told ✨👤🌠me🌠👤✨ things 🅰️bout him I never knew to 🅰️sk➰\n"
     ]
    }
   ],
   "source": [
    "flower = re.sub(r'\\bof', '🌸of🌸', txt)\n",
    "#print(flower)\n",
    "\n",
    "me = re.sub(r'\\bme', '✨👤🌠me🌠👤✨', flower)\n",
    "#print(me)\n",
    "\n",
    "letter_b = re.sub(r'\\bb|B', '🐝', me)\n",
    "#print(letter_b)\n",
    "\n",
    "letter_a = re.sub(r'\\ba|A', '🅰️', letter_b)\n",
    "#print(letter_a)\n",
    "\n",
    "multicons = re.sub(r'(l{2}|r{2}|m{2})', '👯‍♂️', letter_a)\n",
    "#print(multicons)\n",
    "\n",
    "punctuation = re.sub('\\.|,', '➰', multicons)\n",
    "print(punctuation)"
   ]
  },
  {
   "cell_type": "code",
   "execution_count": 94,
   "metadata": {},
   "outputs": [
    {
     "name": "stdout",
     "output_type": "stream",
     "text": [
      "Maybe❕it❕started❕soon❕🅰️fter❕his❕🅰️👯‍♂️ival❕during❕one❕🌸of🌸❕those❕grinding❕lunches❕when❕he❕sat❕next❕to❕✨👤🌠me🌠👤✨❕🅰️nd❕it❕fina👯‍♂️y❕dawned❕on❕✨👤🌠me🌠👤✨❕that,❕despite❕🅰️❕light❕tan❕🅰️cquired❕during❕his❕🐝rief❕stay❕in❕Sicily❕earlier❕that❕su👯‍♂️er,❕the❕color❕on❕the❕palms❕🌸of🌸❕his❕hands❕was❕the❕same❕🅰️s❕the❕pale,❕soft❕skin❕🌸of🌸❕his❕soles,❕🌸of🌸❕his❕throat,❕🌸of🌸❕the❕🐝ot-tom❕🌸of🌸❕his❕forearms,❕which❕hadn't❕rea👯‍♂️y❕🐝een❕exposed❕to❕much❕sun.❕🅰️lmost❕🅰️❕light❕pink,❕🅰️s❕glistening❕🅰️nd❕smooth❕🅰️s❕the❕underside❕🌸of🌸❕🅰️❕lizard's❕🐝e👯‍♂️y.❕Private,❕chaste,❕unfledged,❕like❕🅰️❕🐝lush❕on❕🅰️n❕🅰️thlete's❕face❕or❕🅰️n❕instance❕🌸of🌸❕dawn❕on❕🅰️❕stormy❕night.❕It❕told❕✨👤🌠me🌠👤✨❕things❕🅰️bout❕him❕I❕never❕knew❕to❕🅰️sk.\n"
     ]
    }
   ],
   "source": [
    "y = re.sub('\\s', '❕', multicons)\n",
    "print(y)"
   ]
  },
  {
   "cell_type": "code",
   "execution_count": 92,
   "metadata": {},
   "outputs": [
    {
     "name": "stdout",
     "output_type": "stream",
     "text": [
      "['Maybe it started soon ', '', 'fter his ', '', '', '', '', '', 'ival during one ', 'of', ' those grinding lunches when he sat next to ', '', '', 'me', '', '', ' ', '', 'nd it fina', '', '', '', 'y dawned on ', '', '', 'me', '', '', ' that', ' despite ', '', ' light tan ', '', 'cquired during his ', 'rief stay in Sicily earlier that su', '', '', '', 'er', ' the color on the palms ', 'of', ' his hands was the same ', '', 's the pale', ' soft skin ', 'of', ' his soles', ' ', 'of', ' his throat', ' ', 'of', ' the ', 'ot', 'tom ', 'of', ' his forearms', ' which hadn', 't rea', '', '', '', 'y ', 'een exposed to much sun', ' ', '', 'lmost ', '', ' light pink', ' ', '', 's glistening ', '', 'nd smooth ', '', 's the underside ', 'of', ' ', '', ' lizard', 's ', 'e', '', '', '', 'y', ' Private', ' chaste', ' unfledged', ' like ', '', ' ', 'lush on ', '', 'n ', '', 'thlete', 's face or ', '', 'n instance ', 'of', ' dawn on ', '', ' stormy night', ' It told ', '', '', 'me', '', '', ' things ', '', 'bout him I never knew to ', '', 'sk', '']\n"
     ]
    }
   ],
   "source": [
    "x = re.split('[^a-zA-Z|\\s]', multicons)\n",
    "print(x)"
   ]
  }
 ],
 "metadata": {
  "kernelspec": {
   "display_name": "Python 3",
   "language": "python",
   "name": "python3"
  },
  "language_info": {
   "codemirror_mode": {
    "name": "ipython",
    "version": 3
   },
   "file_extension": ".py",
   "mimetype": "text/x-python",
   "name": "python",
   "nbconvert_exporter": "python",
   "pygments_lexer": "ipython3",
   "version": "3.7.6"
  }
 },
 "nbformat": 4,
 "nbformat_minor": 4
}
