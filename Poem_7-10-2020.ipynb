{
 "cells": [
  {
   "cell_type": "markdown",
   "metadata": {},
   "source": [
    "# once upon a dream"
   ]
  },
  {
   "cell_type": "code",
   "execution_count": null,
   "metadata": {},
   "outputs": [],
   "source": [
    "import random"
   ]
  },
  {
   "cell_type": "code",
   "execution_count": null,
   "metadata": {},
   "outputs": [],
   "source": [
    "#blanks\n",
    "a = [\n",
    "    'the clouds were pink',\n",
    "    'the rain had stopped',\n",
    "    'of a place beyond the sea',\n",
    "]\n",
    "\n",
    "b = [\n",
    "    'came back',\n",
    "    'was a gleaming silver',\n",
    "    'was smiling'\n",
    "]\n",
    "\n",
    "c = [\n",
    "    'we were happy again',\n",
    "    'I could fly',\n",
    "    'you could see the stars',\n",
    "    'shone brighter than you or I have ever seen',\n",
    "    'its light erased the shadows'\n",
    "]\n",
    "d = [['the sun set in', 'last of its rays'],\n",
    "     ['great ocean waves crashed through' , 'wetness on my skin'],\n",
    "     ['the air turned frosty in', 'wind on my neck'],\n",
    "    ]"
   ]
  },
  {
   "cell_type": "code",
   "execution_count": null,
   "metadata": {},
   "outputs": [],
   "source": [
    "stanzacount = 1\n",
    "for i in range(stanzacount):\n",
    "    var_d = random.choice(d)\n",
    "    print(f'one night I dreamed {random.choice(a)}.\\n')\n",
    "    print(f'the sun {random.choice(b)} and {random.choice(c)}.\\n')\n",
    "    print(f'{var_d[0]} the land of my mind\\n')\n",
    "    print('as the sun rose in the land of my body.\\n')\n",
    "    print('as I awoke\\n')\n",
    "    print(f'I could still feel the {var_d[1]}.\\n')\n",
    "    print('how I wish to dream that dream again.\\n')"
   ]
  },
  {
   "cell_type": "markdown",
   "metadata": {},
   "source": [
    "one night I dreamed the clouds were pink.\n",
    "the sun was smiling and shone brighter than you or I have ever seen.\n",
    "great ocean waves crashed through the land of my mind\n",
    "as the sun rose in the land of my body.\n",
    "as I awoke\n",
    "I could still feel the wetness on my skin.\n",
    "how I wish to dream that dream again."
   ]
  },
  {
   "cell_type": "markdown",
   "metadata": {},
   "source": [
    "one night I dreamed the rain had stopped.\n",
    "the sun was a gleaming silver and you could see the stars.\n",
    "the air turned frosty in the land of my mind\n",
    "as the sun rose in the land of my body.\n",
    "as I awoke\n",
    "I could still feel the wind on my neck.\n",
    "how I wish to dream that dream again."
   ]
  },
  {
   "cell_type": "code",
   "execution_count": null,
   "metadata": {},
   "outputs": [],
   "source": []
  }
 ],
 "metadata": {
  "kernelspec": {
   "display_name": "Python 3",
   "language": "python",
   "name": "python3"
  },
  "language_info": {
   "codemirror_mode": {
    "name": "ipython",
    "version": 3
   },
   "file_extension": ".py",
   "mimetype": "text/x-python",
   "name": "python",
   "nbconvert_exporter": "python",
   "pygments_lexer": "ipython3",
   "version": "3.7.6"
  }
 },
 "nbformat": 4,
 "nbformat_minor": 4
}
